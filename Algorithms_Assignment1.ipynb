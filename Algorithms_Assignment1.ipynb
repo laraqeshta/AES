{
  "nbformat": 4,
  "nbformat_minor": 0,
  "metadata": {
    "colab": {
      "provenance": [],
      "authorship_tag": "ABX9TyMuqYLhWpGSTCULdvr0RwwB",
      "include_colab_link": true
    },
    "kernelspec": {
      "name": "python3",
      "display_name": "Python 3"
    },
    "language_info": {
      "name": "python"
    }
  },
  "cells": [
    {
      "cell_type": "markdown",
      "metadata": {
        "id": "view-in-github",
        "colab_type": "text"
      },
      "source": [
        "<a href=\"https://colab.research.google.com/github/laraqeshta/AES/blob/main/Algorithms_Assignment1.ipynb\" target=\"_parent\"><img src=\"https://colab.research.google.com/assets/colab-badge.svg\" alt=\"Open In Colab\"/></a>"
      ]
    },
    {
      "cell_type": "code",
      "execution_count": null,
      "metadata": {
        "id": "E6XYla47G3_G"
      },
      "outputs": [],
      "source": [
        "import random\n",
        "import time\n",
        "import sys\n",
        "import csv\n",
        "import pandas as pd\n",
        "import matplotlib.pyplot as plt\n",
        "from pathlib import Path"
      ]
    },
    {
      "cell_type": "code",
      "source": [
        "sys.setrecursionlimit(10**8)\n",
        "#increases the maximum depth of interpreter stack. We are setting the new limit to 10^8."
      ],
      "metadata": {
        "id": "e-X9jZVwHEyD"
      },
      "execution_count": null,
      "outputs": []
    },
    {
      "cell_type": "markdown",
      "source": [
        "This code implements **the Mergesort algorithm**, which is an efficient sorting algorithm based on the \"Divide and Conquer\" principle. The algorithm repeatedly splits the array into two halves until each part contains only one element, then merges these parts back together in the correct order."
      ],
      "metadata": {
        "id": "VQGvTqDq3zoZ"
      }
    },
    {
      "cell_type": "code",
      "source": [
        "class Counter:\n",
        "    def __init__(self):\n",
        "        self.comparisons = 0\n",
        "        self.moves = 0\n",
        "\n",
        "\n",
        "#Mergesort\n",
        "def mergesort(arr):\n",
        "    cnt = Counter()\n",
        "\n",
        "    def merge(left, right):\n",
        "        i = j = 0\n",
        "        merged = []\n",
        "        while i < len(left) and j < len(right):\n",
        "            cnt.comparisons += 1\n",
        "            if left[i] <= right[j]:\n",
        "                merged.append(left[i])\n",
        "                i += 1\n",
        "            else:\n",
        "                merged.append(right[j])\n",
        "                j += 1\n",
        "            cnt.moves += 1\n",
        "        merged.extend(left[i:])\n",
        "        merged.extend(right[j:])\n",
        "        cnt.moves += (len(left) - i) + (len(right) - j)\n",
        "        return merged\n",
        "\n",
        "    def _mergesort(a):\n",
        "        if len(a) <= 1:\n",
        "            return a\n",
        "        mid = len(a) // 2\n",
        "        left = _mergesort(a[:mid])\n",
        "        right = _mergesort(a[mid:])\n",
        "        return merge(left, right)\n",
        "\n",
        "    sorted_arr = _mergesort(arr)\n",
        "    return sorted_arr, cnt"
      ],
      "metadata": {
        "id": "io1_U-GfHxel"
      },
      "execution_count": null,
      "outputs": []
    },
    {
      "cell_type": "markdown",
      "source": [
        "This code implements **the Quicksort algorithm**, a highly efficient sorting method based on the \"Divide and Conquer\" principle. The algorithm selects a pivot element and partitions the array into two sub-arrays: elements smaller than the pivot and elements larger than the pivot. It then recursively sorts the sub-arrays"
      ],
      "metadata": {
        "id": "US8fucKN4F1C"
      }
    },
    {
      "cell_type": "code",
      "source": [
        "#Quicksort\n",
        "def quicksort(arr):\n",
        "    cnt = Counter()\n",
        "    a = arr[:]\n",
        "\n",
        "    def partition(lo, hi):\n",
        "        pivot_index = random.randint(lo, hi)\n",
        "        a[pivot_index], a[hi] = a[hi], a[pivot_index]\n",
        "        cnt.moves += 2\n",
        "        pivot = a[hi]\n",
        "        i = lo - 1\n",
        "        for j in range(lo, hi):\n",
        "            cnt.comparisons += 1\n",
        "            if a[j] <= pivot:\n",
        "                i += 1\n",
        "                a[i], a[j] = a[j], a[i]\n",
        "                cnt.moves += 2\n",
        "        a[i + 1], a[hi] = a[hi], a[i + 1]\n",
        "        cnt.moves += 2\n",
        "        return i + 1\n",
        "\n",
        "    def _quicksort(lo, hi):\n",
        "        while lo < hi:\n",
        "            p = partition(lo, hi)\n",
        "            if p - lo < hi - p:\n",
        "                _quicksort(lo, p - 1)\n",
        "                lo = p + 1\n",
        "            else:\n",
        "                _quicksort(p + 1, hi)\n",
        "                hi = p - 1\n",
        "\n",
        "    _quicksort(0, len(a) - 1)\n",
        "    return a, cnt"
      ],
      "metadata": {
        "id": "9BkaQIy7H290"
      },
      "execution_count": null,
      "outputs": []
    },
    {
      "cell_type": "markdown",
      "source": [
        "This code implements **the Heapsort algorithm**, which is a comparison-based sorting technique. It works by first converting the input array into a max-heap, then repeatedly extracting the largest element from the heap and moving it to the end of the array."
      ],
      "metadata": {
        "id": "fl7zSyqM5C9W"
      }
    },
    {
      "cell_type": "code",
      "source": [
        "#Heapsort\n",
        "def heapsort(arr):\n",
        "    cnt = Counter()\n",
        "    a = arr[:]\n",
        "    n = len(a)\n",
        "\n",
        "    def heapify(n, i):\n",
        "        largest = i\n",
        "        left = 2 * i + 1\n",
        "        right = 2 * i + 2\n",
        "\n",
        "        if left < n:\n",
        "            cnt.comparisons += 1\n",
        "            if a[left] > a[largest]:\n",
        "                largest = left\n",
        "        if right < n:\n",
        "            cnt.comparisons += 1\n",
        "            if a[right] > a[largest]:\n",
        "                largest = right\n",
        "        if largest != i:\n",
        "            a[i], a[largest] = a[largest], a[i]\n",
        "            cnt.moves += 2\n",
        "            heapify(n, largest)\n",
        "\n",
        "    for i in range(n // 2 - 1, -1, -1):\n",
        "        heapify(n, i)\n",
        "    for i in range(n - 1, 0, -1):\n",
        "        a[i], a[0] = a[0], a[i]\n",
        "        cnt.moves += 2\n",
        "        heapify(i, 0)\n",
        "\n",
        "    return a, cnt"
      ],
      "metadata": {
        "id": "yNhCB-MtIXJs"
      },
      "execution_count": null,
      "outputs": []
    },
    {
      "cell_type": "markdown",
      "source": [
        "This **function** is designed to **create text files containing random integers**, which can then be used as input for sorting algorithms or other data processing tasks. It helps in generating various sizes of test data programmatically."
      ],
      "metadata": {
        "id": "AjcFcUql5YSX"
      }
    },
    {
      "cell_type": "code",
      "source": [
        "def generate_input_files(sizes, folder=\"inputs\"):\n",
        "    Path(folder).mkdir(exist_ok=True)\n",
        "    for n in sizes:\n",
        "        filename = Path(folder) / f\"input_n{n}.txt\"\n",
        "        if filename.exists():\n",
        "            print(f\"The file already exists: {filename}\")\n",
        "            continue\n",
        "        print(f\" Creating input file for size n = {n}...\")\n",
        "        random.seed(42)\n",
        "        with open(filename, \"w\") as f:\n",
        "            for _ in range(n):\n",
        "                f.write(f\"{random.randint(1, n)}\\n\")\n",
        "        print(f\" File created: {filename}\")"
      ],
      "metadata": {
        "id": "t6-XUTr4Ic2L"
      },
      "execution_count": null,
      "outputs": []
    },
    {
      "cell_type": "markdown",
      "source": [
        "This **function** is designed to **test** and benchmark different sorting algorithms using data from a file. It reads a list of numbers from a specified file, then runs multiple sorting algorithms on that data, measuring and reporting their performance metrics."
      ],
      "metadata": {
        "id": "uDy9sHFF5h4E"
      }
    },
    {
      "cell_type": "code",
      "source": [
        "def run_test_from_file(n, folder, results):\n",
        "    filename = Path(folder) / f\"input_n{n}.txt\"\n",
        "    with open(filename, \"r\") as f:\n",
        "        arr = [int(line.strip()) for line in f]\n",
        "\n",
        "    print(f\"\\n===Data size: n = {n} ===\")\n",
        "    for name, func in [(\"Mergesort\", mergesort), (\"Quicksort\", quicksort), (\"Heapsort\", heapsort)]:\n",
        "        data_copy = arr[:]\n",
        "        start = time.time()\n",
        "        sorted_arr, stats = func(data_copy)\n",
        "        end = time.time()\n",
        "        assert sorted_arr == sorted(arr), f\"{name}  produced incorrect sorting\"\n",
        "        time_taken = end - start\n",
        "        print(f\"{name}: time = {time_taken:.4f} seconds, comparisons = {stats.comparisons}, moves  = {stats.moves}\")\n",
        "        results.append([n, name, time_taken, stats.comparisons, stats.moves])"
      ],
      "metadata": {
        "id": "YddMLsaNJH7j"
      },
      "execution_count": null,
      "outputs": []
    },
    {
      "cell_type": "markdown",
      "source": [
        "This code  acts as the **main** program driver. It orchestrates the entire process of generating test data, running performance benchmarks on different sorting algorithms, and saving the results for later analysis."
      ],
      "metadata": {
        "id": "0-9aowiC7DSg"
      }
    },
    {
      "cell_type": "code",
      "source": [
        "if __name__ == \"__main__\":\n",
        "    sizes = [10**3, 10**5, 10**7, 10**8]\n",
        "    input_folder = \"inputs\"\n",
        "    results = []\n",
        "\n",
        "    generate_input_files(sizes, input_folder)\n",
        "\n",
        "    for n in sizes:\n",
        "        run_test_from_file(n, input_folder, results)\n",
        "    with open(\"sorting_results.csv\", \"w\", newline=\"\") as f:\n",
        "        writer = csv.writer(f)\n",
        "        writer.writerow([\"n\", \"Algorithm\", \"Time (s)\", \"Comparisons\", \"Moves\"])\n",
        "        writer.writerows(results)\n",
        "    print(\"\\n Results saved to sorting_results.csv\")\n"
      ],
      "metadata": {
        "colab": {
          "base_uri": "https://localhost:8080/"
        },
        "id": "fkNP75vGKo_v",
        "outputId": "539a9712-51f6-4325-c7ff-8a0b8648e095"
      },
      "execution_count": null,
      "outputs": [
        {
          "output_type": "stream",
          "name": "stdout",
          "text": [
            " Creating input file for size n = 1000...\n",
            " File created: inputs/input_n1000.txt\n",
            " Creating input file for size n = 100000...\n",
            " File created: inputs/input_n100000.txt\n",
            " Creating input file for size n = 10000000...\n",
            " File created: inputs/input_n10000000.txt\n",
            " Creating input file for size n = 100000000...\n",
            " File created: inputs/input_n100000000.txt\n",
            "\n",
            "===Data size: n = 1000 ===\n",
            "Mergesort: time = 0.0022 seconds, comparisons = 8694, moves  = 9976\n",
            "Quicksort: time = 0.0017 seconds, comparisons = 11225, moves  = 12920\n",
            "Heapsort: time = 0.0030 seconds, comparisons = 16867, moves  = 18194\n",
            "\n",
            "===Data size: n = 100000 ===\n",
            "Mergesort: time = 0.3440 seconds, comparisons = 1536031, moves  = 1668928\n",
            "Quicksort: time = 0.3116 seconds, comparisons = 1999520, moves  = 2276556\n",
            "Heapsort: time = 0.5553 seconds, comparisons = 3019230, moves  = 3149386\n",
            "\n",
            "===Data size: n = 10000000 ===\n",
            "Mergesort: time = 66.3296 seconds, comparisons = 220102476, moves  = 233222784\n",
            "Quicksort: time = 70.6883 seconds, comparisons = 296894892, moves  = 345595302\n",
            "Heapsort: time = 140.6019 seconds, comparisons = 434642641, moves  = 447670724\n",
            "\n",
            "===Data size: n = 100000000 ===\n",
            "Mergesort: time = 896.9568 seconds, comparisons = 2532921464, moves  = 2665782272\n",
            "Quicksort: time = 958.0657 seconds, comparisons = 3314538493, moves  = 3615601194\n",
            "Heapsort: time = 1994.1093 seconds, comparisons = 5012881237, moves  = 5143147780\n",
            "\n",
            " Results saved to sorting_results.csv\n"
          ]
        }
      ]
    },
    {
      "cell_type": "markdown",
      "source": [
        "This code uses **Pandas** and **Matplotlib** to **visualize** the performance of the sorting algorithms. It takes the data stored in the results list, converts it into a structured DataFrame, and then generates a plot to compare the algorithms' running times."
      ],
      "metadata": {
        "id": "MXBj-d20lO78"
      }
    },
    {
      "cell_type": "code",
      "source": [
        "df = pd.DataFrame(results, columns=[\"n\", \"Algorithm\", \"Time (s)\", \"Comparisons\", \"Moves\"])\n",
        "\n",
        "plt.figure(figsize=(8, 6))\n",
        "\n",
        "for algo in df[\"Algorithm\"].unique():\n",
        "    subset = df[df[\"Algorithm\"] == algo]\n",
        "    plt.plot(subset[\"n\"], subset[\"Time (s)\"], marker=\"o\", label=algo)\n",
        "\n",
        "plt.xscale(\"log\", base=10)\n",
        "plt.xlabel(\"Data Size (n)\")\n",
        "plt.ylabel(\"Time (Sec)\")\n",
        "plt.title(\"Comparison of Sorting Algorithm Performance\")\n",
        "plt.legend()\n",
        "plt.grid(True)\n",
        "plt.tight_layout()\n",
        "plt.savefig(\"sorting_performance.png\", dpi=150)\n",
        "\n"
      ],
      "metadata": {
        "colab": {
          "base_uri": "https://localhost:8080/",
          "height": 607
        },
        "id": "izOz6A8qlPe6",
        "outputId": "6b9fa4c3-dba0-40c5-fa14-8c60331d28a6"
      },
      "execution_count": null,
      "outputs": [
        {
          "output_type": "display_data",
          "data": {
            "text/plain": [
              "<Figure size 800x600 with 1 Axes>"
            ],
            "image/png": "[encoded data removed]"
          },
          "metadata": {}
        }
      ]
    }
  ]
}